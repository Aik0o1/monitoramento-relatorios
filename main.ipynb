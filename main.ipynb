{
 "cells": [
  {
   "cell_type": "code",
   "execution_count": 11,
   "id": "626a49e9",
   "metadata": {},
   "outputs": [],
   "source": [
    "import pandas as pd\n",
    "import os\n",
    "from datetime import date\n",
    "import shutil"
   ]
  },
  {
   "cell_type": "markdown",
   "id": "2086f996",
   "metadata": {},
   "source": [
    "/h3Tratando o DF\n",
    "    - Remove a linha duplicada no inicio\n",
    "    - Remove as linhas com Totais\n",
    "    - Remove as colunas indesejadas\n",
    "    - Transforma a primeira linha em cabeçalho\n",
    "    "
   ]
  },
  {
   "cell_type": "code",
   "execution_count": 12,
   "id": "1b49b63c",
   "metadata": {},
   "outputs": [],
   "source": [
    "def tratar_df(df):\n",
    "    df = df.drop(df.columns[2:14], axis=1)\n",
    "    df = df.drop(df.columns[14:], axis=1)\n",
    "\n",
    "    df = df.drop(df.index[0])\n",
    "    df = df[~df.map(lambda x: 'Totais' in str(x)).any(axis=1)]\n",
    "\n",
    "    #Transformando a primeira linha no cabeçalho\n",
    "    df = df.set_axis(df.iloc[0], axis=1)\n",
    "    df = df[1:]\n",
    "    \n",
    "    return df"
   ]
  },
  {
   "cell_type": "markdown",
   "id": "2b350ef0",
   "metadata": {},
   "source": [
    "Função para mover o arquivo atual para o diretório de histórico"
   ]
  },
  {
   "cell_type": "code",
   "execution_count": 13,
   "id": "d76573a4",
   "metadata": {},
   "outputs": [],
   "source": [
    "def mover_e_renomear_arquivo():\n",
    "    diretorio_arq_atual = \"./atual\"\n",
    "    arq_atual = os.listdir(diretorio_arq_atual)[0]\n",
    "    caminho_arq_atual = f\"{diretorio_arq_atual}/{arq_atual}\"\n",
    "\n",
    "    data_atual = date.today()\n",
    "    data_formatada = data_atual.strftime(\"%d-%m-%Y\")\n",
    "    \n",
    "    diretorio_destino = \"./historico-sem-mei\"\n",
    "    shutil.move(caminho_arq_atual, f\"{diretorio_destino}/{data_formatada}.xlsx\")\n"
   ]
  },
  {
   "cell_type": "code",
   "execution_count": null,
   "id": "bd1f1b42",
   "metadata": {},
   "outputs": [],
   "source": [
    "def comparar():\n",
    "    arq_atual = os.listdir(\"./atual\")[0]\n",
    "    df = pd.read_excel(f\"./atual/{arq_atual}\")\n",
    "    df = tratar_df(df)\n",
    "    if not os.path.isdir(\"./historico-sem-mei\"):\n",
    "        os.mkdir(\"./historico-sem-mei\")\n",
    "        \n",
    "    dir = \"./historico-sem-mei\"\n",
    "    arquivos_historicos = os.listdir(dir)\n",
    "\n",
    "    for arquivo in arquivos_historicos:\n",
    "        df_comparacao = pd.read_excel(f\"{dir}/{arquivo}\")\n",
    "        df_comparacao = tratar_df(df_comparacao)\n",
    "        comparacao = df.compare(df_comparacao, result_names=(\"atual\", \"antigo\"))\n",
    "\n",
    "        print(f\"Comparação com o arquivo {arquivo}\")\n",
    "        if not comparacao.empty:\n",
    "            comparacao[\"Tipo de Evento\"] = df[\"Tipo de Evento\"]\n",
    "            comparacao[\"ANO\"] = df[\"ANO\"]\n",
    "            print(comparacao)\n",
    "            print(\"-=\"*20)\n",
    "    mover_e_renomear_arquivo()\n"
   ]
  },
  {
   "cell_type": "code",
   "execution_count": 29,
   "id": "98234b68",
   "metadata": {},
   "outputs": [
    {
     "name": "stdout",
     "output_type": "stream",
     "text": [
      "Comparação com o arquivo compare2.xlsx\n",
      "1    ago          Tipo de Evento   ANO\n",
      "   atual antigo                       \n",
      "19   300    301  PEDIDO DE BAIXA  2021\n",
      "-=-=-=-=-=-=-=-=-=-=-=-=-=-=-=-=-=-=-=-=\n",
      "Comparação com o arquivo inicial.xlsx\n",
      "1    jan          mai          ago               Tipo de Evento   ANO\n",
      "   atual antigo atual antigo atual antigo                            \n",
      "12   NaN    NaN   690    692   NaN    NaN  INSCRIÇÃO DE EMPRESA  2021\n",
      "19   NaN    NaN   NaN    NaN   300    301       PEDIDO DE BAIXA  2021\n",
      "23   627    625   NaN    NaN   NaN    NaN       PEDIDO DE BAIXA  2025\n",
      "-=-=-=-=-=-=-=-=-=-=-=-=-=-=-=-=-=-=-=-=\n",
      "Comparação com o arquivo 29-04-2025.xlsx\n"
     ]
    }
   ],
   "source": [
    "comparar()"
   ]
  }
 ],
 "metadata": {
  "kernelspec": {
   "display_name": "venv",
   "language": "python",
   "name": "python3"
  },
  "language_info": {
   "codemirror_mode": {
    "name": "ipython",
    "version": 3
   },
   "file_extension": ".py",
   "mimetype": "text/x-python",
   "name": "python",
   "nbconvert_exporter": "python",
   "pygments_lexer": "ipython3",
   "version": "3.12.3"
  }
 },
 "nbformat": 4,
 "nbformat_minor": 5
}
